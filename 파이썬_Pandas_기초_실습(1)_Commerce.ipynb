{
  "nbformat": 4,
  "nbformat_minor": 0,
  "metadata": {
    "colab": {
      "name": "파이썬 Pandas 기초 실습(1) - Commerce.ipynb",
      "provenance": [],
      "collapsed_sections": []
    },
    "kernelspec": {
      "display_name": "Python [conda root]",
      "language": "python",
      "name": "conda-root-py"
    }
  },
  "cells": [
    {
      "cell_type": "markdown",
      "metadata": {
        "id": "_xZ3cciGXVH8"
      },
      "source": [
        "# 이커머스 구매 데이터로 Pandas 기초 연습하기"
      ]
    },
    {
      "cell_type": "markdown",
      "metadata": {
        "id": "rPiJDjfHXVH8"
      },
      "source": [
        "# import , read\n",
        "\n",
        "Pandas 패키지를 Import 하고 실습 데이터 파일(Ecommerce_Purchases)을 read 하세요.   \n",
        "그 다음, Pandas Dataframe 형식으로 ecom 이라는 변수에 저장해보세요.\n",
        "\n",
        "[실습 데이터 다운로드 받기](https://github.com/HighLvRiver/PythonLearning/blob/master/Study/Ecommerce%20Purchases)"
      ]
    },
    {
      "cell_type": "code",
      "metadata": {
        "id": "ejfcLiCac-CV",
        "colab": {
          "resources": {
            "http://localhost:8080/nbextensions/google.colab/files.js": {
              "data": "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",
              "ok": true,
              "headers": [
                [
                  "content-type",
                  "application/javascript"
                ]
              ],
              "status": 200,
              "status_text": ""
            }
          },
          "base_uri": "https://localhost:8080/",
          "height": 89
        },
        "outputId": "fb707b84-cf90-4703-939c-d5e1ea1102eb"
      },
      "source": [
        "# ecom = pd.read_csv('/Users/jayden.yoo/Downloads/Ecommerce_Purchases') \n",
        "# google colaboratory가 아닌 다른 python 프로그램이라면, 바로 read_csv\n",
        "\n",
        "from google.colab import files\n",
        "uploaded = files.upload() # 파일 업로드 기능 실행\n",
        "\n",
        "for fn in uploaded.keys(): # 업로드된 파일 정보 출력\n",
        "    print('User uploaded file \"{name}\" with length {length} bytes'.format(\n",
        "        name=fn, length=len(uploaded[fn])))"
      ],
      "execution_count": 3,
      "outputs": [
        {
          "output_type": "display_data",
          "data": {
            "text/html": [
              "\n",
              "     <input type=\"file\" id=\"files-5b9059c4-5bd8-47a8-85ad-7c0875e544f7\" name=\"files[]\" multiple disabled\n",
              "        style=\"border:none\" />\n",
              "     <output id=\"result-5b9059c4-5bd8-47a8-85ad-7c0875e544f7\">\n",
              "      Upload widget is only available when the cell has been executed in the\n",
              "      current browser session. Please rerun this cell to enable.\n",
              "      </output>\n",
              "      <script src=\"/nbextensions/google.colab/files.js\"></script> "
            ],
            "text/plain": [
              "<IPython.core.display.HTML object>"
            ]
          },
          "metadata": {
            "tags": []
          }
        },
        {
          "output_type": "stream",
          "text": [
            "Saving Ecommerce Purchases.txt to Ecommerce Purchases.txt\n",
            "User uploaded file \"Ecommerce Purchases.txt\" with length 2745852 bytes\n"
          ],
          "name": "stdout"
        }
      ]
    },
    {
      "cell_type": "code",
      "metadata": {
        "id": "_CEIdWp7dUE_"
      },
      "source": [
        "import pandas as pd\n",
        "import io\n",
        "\n",
        "ecom = pd.read_csv(io.StringIO(uploaded['Ecommerce_Purchases.txt'].decode('utf-8')))"
      ],
      "execution_count": null,
      "outputs": []
    },
    {
      "cell_type": "markdown",
      "metadata": {
        "id": "k7V_ytJZXVIE"
      },
      "source": [
        "# .head()\n",
        "\n",
        "DataFrame 의 앞부분 확인하여, 데이터 생긴 거 미리보기"
      ]
    },
    {
      "cell_type": "code",
      "metadata": {
        "id": "4E5gidZiXVIE"
      },
      "source": [
        "ecom.head(2)"
      ],
      "execution_count": null,
      "outputs": []
    },
    {
      "cell_type": "markdown",
      "metadata": {
        "id": "x_bcC_VKXVIL"
      },
      "source": [
        "# .info()\n",
        "\n",
        "몇 개의 컬럼과 행이 있는지 확인해보기"
      ]
    },
    {
      "cell_type": "code",
      "metadata": {
        "id": "ktCeEIVJXVIM"
      },
      "source": [
        "ecom.info()"
      ],
      "execution_count": null,
      "outputs": []
    },
    {
      "cell_type": "markdown",
      "metadata": {
        "id": "kmy2PsSCXVIR"
      },
      "source": [
        "# .mean()\n",
        "\n",
        "평균 구매 가격(Purchase Price) 확인하기"
      ]
    },
    {
      "cell_type": "code",
      "metadata": {
        "id": "qb9_ll2EXVIR"
      },
      "source": [
        "ecom['Purchase Price'].mean()"
      ],
      "execution_count": null,
      "outputs": []
    },
    {
      "cell_type": "markdown",
      "metadata": {
        "id": "NsJFyEM7ekgJ"
      },
      "source": [
        "# round(,)\n",
        "소수점 첫번째 자리에서 반올림하여 출력하기"
      ]
    },
    {
      "cell_type": "code",
      "metadata": {
        "id": "Ay6PDqm9ej_w"
      },
      "source": [
        "round(ecom['Purchase Price'].mean(),1)"
      ],
      "execution_count": null,
      "outputs": []
    },
    {
      "cell_type": "markdown",
      "metadata": {
        "id": "P77-ZTo8XVIV"
      },
      "source": [
        "# .max() .min()\n",
        "구매 가격(Purchase Price)의 최대값, 최소값 구하기"
      ]
    },
    {
      "cell_type": "code",
      "metadata": {
        "id": "JekpiPfZXVIV"
      },
      "source": [
        "round(ecom['Purchase Price'].max(),1)"
      ],
      "execution_count": null,
      "outputs": []
    },
    {
      "cell_type": "code",
      "metadata": {
        "id": "r_JaGTWfXVIZ"
      },
      "source": [
        "round(ecom['Purchase Price'].min(),1)"
      ],
      "execution_count": null,
      "outputs": []
    },
    {
      "cell_type": "markdown",
      "metadata": {
        "id": "3JhNcfRDXVIc"
      },
      "source": [
        "# .count()\n",
        "웹사이트에 얼마나 많은 사람들이 언어(Language)를 English로 하는 지 알아보기"
      ]
    },
    {
      "cell_type": "code",
      "metadata": {
        "id": "7Gv-ha2uXVId"
      },
      "source": [
        "# 'Language' 변수값 살펴보기\n",
        "\n",
        "ecom['Language'].head(5)"
      ],
      "execution_count": null,
      "outputs": []
    },
    {
      "cell_type": "code",
      "metadata": {
        "id": "chwSlu2TXVIg"
      },
      "source": [
        "# 'Language' 컬럼값이 'en' 인 데이터만 불러오기\n",
        "\n",
        "ecom[ecom['Language']=='en']"
      ],
      "execution_count": null,
      "outputs": []
    },
    {
      "cell_type": "code",
      "metadata": {
        "id": "M79nhNnjfpP-"
      },
      "source": [
        "# 'Language' 컬럼값이 'en' 인 데이터의 숫자 세기\n",
        "\n",
        "ecom[ecom['Language']=='en'].count()"
      ],
      "execution_count": null,
      "outputs": []
    },
    {
      "cell_type": "code",
      "metadata": {
        "id": "Ab5z5HwefucN"
      },
      "source": [
        "# 'Language' 컬럼값이 'en' 인 데이터의 신용카드(Credit Card) 숫자 세기\n",
        "\n",
        "ecom[ecom['Language']=='en']['Credit Card'].count()"
      ],
      "execution_count": null,
      "outputs": []
    },
    {
      "cell_type": "markdown",
      "metadata": {
        "id": "3GyrqIl4XVIp"
      },
      "source": [
        "직업('Job')이 변호사('Lawyer')인 사람수 구하기"
      ]
    },
    {
      "cell_type": "code",
      "metadata": {
        "id": "q94dKdrHXVIs"
      },
      "source": [
        "ecom[ecom['Job'] == 'Lawyer'].count()"
      ],
      "execution_count": null,
      "outputs": []
    },
    {
      "cell_type": "markdown",
      "metadata": {
        "id": "ZJjGEoZbXVI3"
      },
      "source": [
        "# .value_counts()\n",
        "\n",
        "얼마나 많은 사람들이 오전(AM)과 오후(PM)에 구매를 하는 지 알아보기"
      ]
    },
    {
      "cell_type": "code",
      "metadata": {
        "id": "nVUDHQrFXVI3"
      },
      "source": [
        "ecom['AM or PM'].value_counts() # sql 에서 group by 같은 개념"
      ],
      "execution_count": null,
      "outputs": []
    },
    {
      "cell_type": "markdown",
      "metadata": {
        "id": "iAMaSDSuXVI6"
      },
      "source": [
        "가장 흔한 직업 상위 5개 알아보기"
      ]
    },
    {
      "cell_type": "code",
      "metadata": {
        "id": "8aebg-htXVI6"
      },
      "source": [
        "ecom['Job'].value_counts().head(5) # 디폴트는 내림차순이다 "
      ],
      "execution_count": null,
      "outputs": []
    },
    {
      "cell_type": "markdown",
      "metadata": {
        "id": "SCo1L-aug9OM"
      },
      "source": [
        "가장 흔한 직업 하위 5개 알아보기"
      ]
    },
    {
      "cell_type": "code",
      "metadata": {
        "id": "ejPo6Lh0g7sq"
      },
      "source": [
        "ecom['Job'].value_counts(sort=True, ascending=True).head(5)\n",
        "\n",
        "# 유일한 값의 개수 기준 내림차순 정렬 예시 (sort descending order by value_counts)\n",
        "# .value_counts(sort=True, ascending=False)\n",
        "\n",
        "# 유일한 값의 개수 기준 오름차순 정렬 예시 (sort ascending order by value_counts)\n",
        "# .value_counts(sort=True, ascending=True)\n",
        "\n",
        "# 유일한 값 기준 오름차순 정렬 예시 (유일한 값의 개수 기준 정렬은 없음)\n",
        "# .value_counts(sort=False)\n",
        "\n",
        "# 결측값을 유일한 값에 포함할지 여부 \n",
        "# .value_counts(dropna=True)"
      ],
      "execution_count": null,
      "outputs": []
    },
    {
      "cell_type": "markdown",
      "metadata": {
        "id": "HlnZ2FEqXVI-"
      },
      "source": [
        "# specific variable values\n",
        "\n",
        "'90 WT' 지역에서 구매된 거래 금액 확인하기"
      ]
    },
    {
      "cell_type": "code",
      "metadata": {
        "id": "C2SXakTBi2Ic"
      },
      "source": [
        "# '90 WT' 지역에서 구매된 거래 정보 전체 확인하기\n",
        "\n",
        "ecom[ecom['Lot']=='90 WT']"
      ],
      "execution_count": null,
      "outputs": []
    },
    {
      "cell_type": "code",
      "metadata": {
        "id": "RLvbf6O7XVI-"
      },
      "source": [
        "# '90 WT' 지역에서 구매된 거래 금액만 확인하기\n",
        "\n",
        "ecom[ecom['Lot']=='90 WT']['Purchase Price']"
      ],
      "execution_count": null,
      "outputs": []
    },
    {
      "cell_type": "markdown",
      "metadata": {
        "id": "G1mn6GfWXVJC"
      },
      "source": [
        "신용카드번호 4926535242672853 이용자의 이메일 주소 찾기"
      ]
    },
    {
      "cell_type": "code",
      "metadata": {
        "id": "GoCdIzkoXVJC"
      },
      "source": [
        "ecom[ecom['Credit Card'] == 4926535242672853]['Email']"
      ],
      "execution_count": null,
      "outputs": []
    },
    {
      "cell_type": "markdown",
      "metadata": {
        "id": "1irwSJ5kXVJF"
      },
      "source": [
        "# 'And' or 'Or'\n",
        "\n",
        "얼마나 많은 사람들이 American Express 카드로 95달러 초과로 결제하는 지 알아보기"
      ]
    },
    {
      "cell_type": "code",
      "metadata": {
        "id": "qLzmrT9vXVJF"
      },
      "source": [
        "ecom[(ecom['CC Provider']=='American Express') & (ecom['Purchase Price']>95)].count()"
      ],
      "execution_count": null,
      "outputs": []
    },
    {
      "cell_type": "markdown",
      "metadata": {
        "id": "LXpuGaFbkJsx"
      },
      "source": [
        "얼마나 많은 사람들이 95달러 초과로 결제하거나 10달러 미만으로 구매하는 지 알아보기"
      ]
    },
    {
      "cell_type": "code",
      "metadata": {
        "id": "6D7rfG8UkQpi"
      },
      "source": [
        "ecom[((ecom['Purchase Price']>95) | (ecom['Purchase Price']<10))].count()"
      ],
      "execution_count": null,
      "outputs": []
    },
    {
      "cell_type": "markdown",
      "metadata": {
        "id": "NDDlO4TcpBae"
      },
      "source": [
        "# .apply() & Lambda\n",
        "\n",
        "얼마나 많은 신용카드가 2025년에 만료되는 지 알아보기"
      ]
    },
    {
      "cell_type": "code",
      "metadata": {
        "id": "lXFUqoqZktY6"
      },
      "source": [
        "# 'CC Exp Date' 컬럼값 살펴보기\n",
        "\n",
        "ecom['CC Exp Date'].head(3)"
      ],
      "execution_count": null,
      "outputs": []
    },
    {
      "cell_type": "code",
      "metadata": {
        "id": "n1UDMwD6k3oa"
      },
      "source": [
        "# 컬럼값의 뒤 2자리로 만료년도 파악하기\n",
        "\n",
        "ecom['CC Exp Date'].apply(lambda x: x[3:]).head(5)"
      ],
      "execution_count": null,
      "outputs": []
    },
    {
      "cell_type": "code",
      "metadata": {
        "id": "hO8RJ_iv0DSZ"
      },
      "source": [
        "# 만료년도가 25인 것만 추출하기\n",
        "\n",
        "ecom[ecom['CC Exp Date'].apply(lambda x: x[3:]) == '25'].head(5)"
      ],
      "execution_count": null,
      "outputs": []
    },
    {
      "cell_type": "code",
      "metadata": {
        "id": "nZ7I4CIXXVJO"
      },
      "source": [
        "# 조건을 만족하는 행 갯수 세기\n",
        "\n",
        "sum(ecom['CC Exp Date'].apply(lambda x: x[3:]) == '25')\n",
        "\n",
        "# ecom[ecom['CC Exp Date'].apply(lambda x: x[3:]) == '25'].count()"
      ],
      "execution_count": null,
      "outputs": []
    },
    {
      "cell_type": "markdown",
      "metadata": {
        "id": "E7Anq2inXVJT"
      },
      "source": [
        "# Lambda & .split\n",
        "\n",
        "가장 인기있는 이메일 제공자/호스트(e.g. gmail.com, yahoo.com, etc...) 상위 5 찾아내기"
      ]
    },
    {
      "cell_type": "code",
      "metadata": {
        "id": "mOhTP1DxXVJU"
      },
      "source": [
        "# 'Email' 컬럼값 살펴보기\n",
        "\n",
        "\n",
        "ecom['Email'].head(5)"
      ],
      "execution_count": null,
      "outputs": []
    },
    {
      "cell_type": "code",
      "metadata": {
        "id": "fjpw7vuIXVJY"
      },
      "source": [
        "# 샘플 데이터 1개를 가지고 데이터 파싱 연습하기\n",
        "\n",
        "example_email = ecom['Email'].iloc[0]\n",
        "example_email"
      ],
      "execution_count": null,
      "outputs": []
    },
    {
      "cell_type": "code",
      "metadata": {
        "id": "ClVNQaQ5XVJb"
      },
      "source": [
        "# '@' 문자를 기준으로 컬럼값 나누기\n",
        "\n",
        "example_email.split('@')"
      ],
      "execution_count": null,
      "outputs": []
    },
    {
      "cell_type": "code",
      "metadata": {
        "id": "vxW_GjScXVJe"
      },
      "source": [
        "# 나눈 컬럼값 2번째 값 불러오기\n",
        "\n",
        "example_email.split('@')[1]"
      ],
      "execution_count": null,
      "outputs": []
    },
    {
      "cell_type": "code",
      "metadata": {
        "id": "6QXNvVXDXVJh"
      },
      "source": [
        "# 위의 작업 프로세스를 그대로 lambda function 으로 구현하기\n",
        "\n",
        "ecom['Email'].apply(lambda x: x.split('@')[1]).value_counts().head(5)\n",
        "\n",
        "# 만일 오름차순으로 구하고 싶으면?\n",
        "\n",
        "# ecom['Email'].apply(lambda x: x.split('@')[1]).value_counts(ascending=True).head(5)"
      ],
      "execution_count": null,
      "outputs": []
    },
    {
      "cell_type": "code",
      "metadata": {
        "id": "8OOahzWH9RcN"
      },
      "source": [
        ""
      ],
      "execution_count": null,
      "outputs": []
    }
  ]
}